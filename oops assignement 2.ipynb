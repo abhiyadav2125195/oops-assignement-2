{
 "cells": [
  {
   "cell_type": "markdown",
   "id": "69369cc0-8667-41e8-af21-5a801d8ad8f4",
   "metadata": {},
   "source": [
    "# Q1. What is Abstraction in OOps? Explain with an example."
   ]
  },
  {
   "cell_type": "markdown",
   "id": "fabd2b5c-5057-4d1b-ad95-dab8379894af",
   "metadata": {},
   "source": [
    "##  It involves capturing the essential characteristics and behavior of an object while hiding the unnecessary details."
   ]
  },
  {
   "cell_type": "code",
   "execution_count": 15,
   "id": "014560a0-2247-4988-9ba1-e8abd1af49e8",
   "metadata": {},
   "outputs": [],
   "source": [
    "import abc\n",
    "class pwskills :\n",
    "    @abc.abstractmethod\n",
    "    def student_detail(self) :\n",
    "        pass\n",
    "    @abc.abstractmethod\n",
    "    def student_assignement (self) :\n",
    "        pass\n",
    "    @abc.abstractmethod\n",
    "    def student_marks(self) :\n",
    "        pass\n",
    "    \n"
   ]
  },
  {
   "cell_type": "code",
   "execution_count": 20,
   "id": "eb7197bb-3b23-48fd-9554-6657b057a04c",
   "metadata": {},
   "outputs": [
    {
     "ename": "IndentationError",
     "evalue": "unindent does not match any outer indentation level (<tokenize>, line 6)",
     "output_type": "error",
     "traceback": [
      "\u001b[0;36m  File \u001b[0;32m<tokenize>:6\u001b[0;36m\u001b[0m\n\u001b[0;31m    def student_assignement (self) :\u001b[0m\n\u001b[0m    ^\u001b[0m\n\u001b[0;31mIndentationError\u001b[0m\u001b[0;31m:\u001b[0m unindent does not match any outer indentation level\n"
     ]
    }
   ],
   "source": [
    "class student_detail(pwskills) :\n",
    "    \n",
    "    def student_detail(self) :\n",
    "        return \"this is method for asking student detail\"\n",
    "    \n",
    "      def student_assignement (self) :\n",
    "            return \"this is method for asking assignement\"\n",
    "        \n",
    "        \n",
    "                       \n",
    "    \n",
    "    "
   ]
  },
  {
   "cell_type": "code",
   "execution_count": 18,
   "id": "df6a4c11-c75d-4c35-bc6b-13578b3cb42b",
   "metadata": {},
   "outputs": [],
   "source": [
    "class data_science (pwskills) :\n",
    "    def student_detail(self) :\n",
    "        return \"this is the information of data science detail\""
   ]
  },
  {
   "cell_type": "code",
   "execution_count": 21,
   "id": "75412ec3-5552-4f63-aefe-a8206e7dd82d",
   "metadata": {},
   "outputs": [],
   "source": [
    "pw =  data_science()"
   ]
  },
  {
   "cell_type": "code",
   "execution_count": 23,
   "id": "c7236b8a-9ba2-45c1-9f70-422ecc8bd15d",
   "metadata": {},
   "outputs": [
    {
     "data": {
      "text/plain": [
       "'this is the information of data science detail'"
      ]
     },
     "execution_count": 23,
     "metadata": {},
     "output_type": "execute_result"
    }
   ],
   "source": [
    "pw.student_detail()"
   ]
  },
  {
   "cell_type": "markdown",
   "id": "1879a923-91ac-41e1-b83c-afd7de279771",
   "metadata": {},
   "source": [
    "# Q2. Differentiate between Abstraction and Encapsulation. Explain with an example."
   ]
  },
  {
   "cell_type": "markdown",
   "id": "be3f311b-67e2-43fc-8898-e5597b060117",
   "metadata": {},
   "source": [
    "## Abstraction focuses on representing complex real-world entities by simplifying their characteristics and behaviors, while encapsulation emphasizes the bundling of data and methods within a class to control access and protect the internal state."
   ]
  },
  {
   "cell_type": "code",
   "execution_count": 24,
   "id": "8adc7411-8b33-4178-8a93-1aea7528f387",
   "metadata": {},
   "outputs": [],
   "source": [
    "class student() :\n",
    "    def __init__(self,name,marks,rollno) :\n",
    "        self.__name = name\n",
    "        self.marks = marks\n",
    "        self.rollno = rollno\n",
    "    "
   ]
  },
  {
   "cell_type": "code",
   "execution_count": 26,
   "id": "fce3bc55-85d1-43c6-9ba5-cd119eae8094",
   "metadata": {},
   "outputs": [],
   "source": [
    "pw = student(\"abhishek\",33,1)"
   ]
  },
  {
   "cell_type": "code",
   "execution_count": 28,
   "id": "42345f49-fe19-4e74-9cbe-af52ba35f2ec",
   "metadata": {},
   "outputs": [
    {
     "data": {
      "text/plain": [
       "33"
      ]
     },
     "execution_count": 28,
     "metadata": {},
     "output_type": "execute_result"
    }
   ],
   "source": [
    "pw.marks"
   ]
  },
  {
   "cell_type": "code",
   "execution_count": 29,
   "id": "5e2018e9-1331-4625-bc11-6a458ec0bd52",
   "metadata": {},
   "outputs": [
    {
     "ename": "AttributeError",
     "evalue": "'student' object has no attribute 'name'",
     "output_type": "error",
     "traceback": [
      "\u001b[0;31m---------------------------------------------------------------------------\u001b[0m",
      "\u001b[0;31mAttributeError\u001b[0m                            Traceback (most recent call last)",
      "Cell \u001b[0;32mIn[29], line 1\u001b[0m\n\u001b[0;32m----> 1\u001b[0m \u001b[43mpw\u001b[49m\u001b[38;5;241;43m.\u001b[39;49m\u001b[43mname\u001b[49m\n",
      "\u001b[0;31mAttributeError\u001b[0m: 'student' object has no attribute 'name'"
     ]
    }
   ],
   "source": [
    "pw.name"
   ]
  },
  {
   "cell_type": "code",
   "execution_count": 30,
   "id": "ecb4f70e-b3f8-4c19-a239-73e5ac0a8c83",
   "metadata": {},
   "outputs": [
    {
     "data": {
      "text/plain": [
       "'abhishek'"
      ]
     },
     "execution_count": 30,
     "metadata": {},
     "output_type": "execute_result"
    }
   ],
   "source": [
    "pw._student__name"
   ]
  },
  {
   "cell_type": "markdown",
   "id": "19071d33-546a-4b9d-9c20-a2b51bb8a2d9",
   "metadata": {},
   "source": [
    "## encapulation hide the some data from direct excess but abstract provide you a basic structure that you can use again and again althought abstraction gives different result according to class rule"
   ]
  },
  {
   "cell_type": "markdown",
   "id": "63b46d08-1d8a-47b0-8474-fb10ac9f7a4c",
   "metadata": {},
   "source": [
    "# Q3. What is abc module in python? Why is it used?"
   ]
  },
  {
   "cell_type": "markdown",
   "id": "06f1f263-170e-4d77-b749-42dba5caf385",
   "metadata": {},
   "source": [
    "## The abc module in Python stands for \"Abstract Base Classes.\" It is a module that provides infrastructure for defining abstract base classes\n",
    "## The main purpose of using the abc module and abstract base classes is to enforce certain rules and structures on subclasses. By defining abstract methods in an abstract base class, you can ensure that any concrete subclass that inherits from it implements those methods."
   ]
  },
  {
   "cell_type": "markdown",
   "id": "6c496c41-e58e-43a4-a94d-53a6a07c51d0",
   "metadata": {},
   "source": [
    "# Q4. How can we achieve data abstraction?"
   ]
  },
  {
   "cell_type": "markdown",
   "id": "34b0b173-9ed8-46ae-bd1e-f66b5e7f507a",
   "metadata": {},
   "source": [
    "## Here are some key techniques to achieve data abstraction:\n",
    "\n",
    "## Encapsulation: Encapsulation is a fundamental principle of OOP that involves bundling data (attributes) and methods (behaviors) within a class. It allows you to control access to the data by using access modifiers (such as public, private, and protected) to specify the level of visibility\n",
    "\n",
    "## Access Modifiers: Access modifiers specify the accessibility of attributes and methods from outside the class.\n",
    "## By marking certain attributes as private or protected, you prevent direct access to them from outside the class, enforcing encapsulation and data abstraction.\n",
    "\n",
    "## Getters and Setters: Getters and setters (also known as accessor and mutator methods) provide controlled access to the class's attributes. Getters and setters allow you to control how data is accessed and modified, providing an abstraction layer between the object's internal data and external interactions.\n",
    "\n",
    "## Data Hiding: Data hiding involves hiding the internal details of a class and exposing only the necessary information.\n",
    "                        "
   ]
  },
  {
   "cell_type": "markdown",
   "id": "af719e2a-da45-4728-88ee-807ed45e24fc",
   "metadata": {},
   "source": [
    "# Q5. Can we create an instance of an abstract class? Explain your answer."
   ]
  },
  {
   "cell_type": "code",
   "execution_count": null,
   "id": "e072f02b-8a4f-4a05-8a0a-8b0a85232f96",
   "metadata": {},
   "outputs": [],
   "source": [
    "## "
   ]
  }
 ],
 "metadata": {
  "kernelspec": {
   "display_name": "Python 3 (ipykernel)",
   "language": "python",
   "name": "python3"
  },
  "language_info": {
   "codemirror_mode": {
    "name": "ipython",
    "version": 3
   },
   "file_extension": ".py",
   "mimetype": "text/x-python",
   "name": "python",
   "nbconvert_exporter": "python",
   "pygments_lexer": "ipython3",
   "version": "3.10.8"
  }
 },
 "nbformat": 4,
 "nbformat_minor": 5
}
